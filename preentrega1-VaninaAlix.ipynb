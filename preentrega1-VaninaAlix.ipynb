{
 "cells": [
  {
   "cell_type": "markdown",
   "id": "724b01ad-2ce8-4818-a044-e8f6101cee00",
   "metadata": {},
   "source": [
    "# Preentrega 1 – [IA generación de prompts]\n",
    "\n",
    "**Alumna:** Vanina Eugenia Alix\n",
    "**Comisión:** 84185 \n",
    "**Proyecto:** [F1 para Dummies]\n",
    "\n",
    "---\n",
    "\n",
    "## 1. Presentación del problema\n",
    "\n",
    "Con la participación de un piloto argentino - Franco Colapinto - en la máxima categoría del deporte automotor - F1 -, se ha incrementado el interés por conocer acerca de este deporte de carácter elitista y con terminología específica. \n",
    "\n",
    "El título del proyecto, F1 para dummies, es un guiño a las series de libros creadas por la empresa Wiley Publishing que se trata de libros de no ficción que intentan explicar de manera, accesible y sin jerga técnica temas complejos.\n",
    "\n",
    "---\n",
    "\n",
    "## 2. Propuesta de solución\n",
    "\n",
    "Como respuesta a la problemática planteada, me propongo generar una guía-resumen general con los conceptos que sí o sí se tienen que conocer para comprender el desarrollo de un Gran Prix.\n",
    "\n",
    "El detalle de la guía incluye la mención de las actividades desarrolladas durante los 3 días de duración de un GP y terminología específica de carrera.\n",
    "\n",
    "[Prompt: necesito que asumas el rol de un especialista en fórmula 1 y que expliques, para un público que no tiene idea de ese deporte, en términos generales y de manera resumida, de qué se trata incluyendo actividades por gran prix y principal terminología de carrera]\n",
    "\n",
    "```python```\n",
    "\n",
    "\n",
    "---\n",
    "\n",
    "## 3. Viabilidad\n",
    "\n",
    "La propuesta es viable porque:\n",
    "\n",
    "- Se cuenta con los recursos necesarios para su implementación (tecnológicos, humanos, económicos).\n",
    "- El tiempo estimado para su desarrollo se corresponde con la duración del curso\n",
    "\n",
    "---\n",
    "\n"
   ]
  }
 ],
 "metadata": {
  "kernelspec": {
   "display_name": "Python 3 (ipykernel)",
   "language": "python",
   "name": "python3"
  },
  "language_info": {
   "codemirror_mode": {
    "name": "ipython",
    "version": 3
   },
   "file_extension": ".py",
   "mimetype": "text/x-python",
   "name": "python",
   "nbconvert_exporter": "python",
   "pygments_lexer": "ipython3",
   "version": "3.10.16"
  }
 },
 "nbformat": 4,
 "nbformat_minor": 5
}
